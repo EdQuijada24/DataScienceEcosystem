{
 "cells": [
  {
   "cell_type": "markdown",
   "id": "37f41e52-101d-4134-b22a-bf69f735686a",
   "metadata": {},
   "source": [
    "# Herramientas y Ecosistema de Ciencia de Datos\r\n"
   ]
  },
  {
   "cell_type": "markdown",
   "id": "8492f601-a3d0-4991-8fd9-4b1cbe4b8515",
   "metadata": {},
   "source": [
    "# Su compañero Edison Quijada"
   ]
  },
  {
   "cell_type": "markdown",
   "id": "e5fa825e-4f80-4a39-8319-e807f1e330f1",
   "metadata": {},
   "source": [
    "En este cuaderno se resumen las herramientas y el ecosistema de ciencia de datos.\n"
   ]
  },
  {
   "cell_type": "markdown",
   "id": "f251f690-710c-4952-9c7d-ba5ee147b49e",
   "metadata": {},
   "source": [
    "Algunos de los lenguajes populares que utilizan los científicos de datos son:\n",
    "1. Python\n",
    "2. R\n",
    "3. SQL\n"
   ]
  },
  {
   "cell_type": "markdown",
   "id": "65b7aa1a-e9a7-49e4-976b-b9854b92eb32",
   "metadata": {},
   "source": [
    "Algunas de las bibliotecas comúnmente utilizadas por los científicos de datos incluyen:\n",
    "1. NumPy\n",
    "2. Pandas\n",
    "3. Matplotlib\n"
   ]
  },
  {
   "cell_type": "markdown",
   "id": "e564f8e2-18d5-40e3-8cb0-c695954e44a3",
   "metadata": {},
   "source": [
    "| Data Science Tools |\n",
    "|---------------------|\n",
    "| Jupyter Notebook    |\n",
    "| RStudio             |\n",
    "| Apache Spark        |\n"
   ]
  },
  {
   "cell_type": "markdown",
   "id": "c88101c4-23dd-46bf-bf33-c9086a508001",
   "metadata": {},
   "source": [
    "### Below are a few examples of evaluating arithmetic expressions in Python.\n"
   ]
  },
  {
   "cell_type": "code",
   "execution_count": 13,
   "id": "3d74b746-4c66-4a06-baad-dc330aecfe51",
   "metadata": {},
   "outputs": [
    {
     "data": {
      "text/plain": [
       "17"
      ]
     },
     "execution_count": 13,
     "metadata": {},
     "output_type": "execute_result"
    }
   ],
   "source": [
    "# Esta es una expresión aritmética simple para multiplicar y luego sumar números enteross\n",
    "(3 * 4) + 5\n"
   ]
  },
  {
   "cell_type": "code",
   "execution_count": 12,
   "id": "668e7ec9-a2ef-46ec-8899-35c536d23fa2",
   "metadata": {},
   "outputs": [
    {
     "data": {
      "text/plain": [
       "3.3333333333333335"
      ]
     },
     "execution_count": 12,
     "metadata": {},
     "output_type": "execute_result"
    }
   ],
   "source": [
    "# Esto convertirá 200 minutos a horas dividiendo por 60.\n",
    "200 / 60\n"
   ]
  },
  {
   "cell_type": "markdown",
   "id": "e9ee184b-8f66-4de5-94f3-c692a97d27ee",
   "metadata": {},
   "source": [
    "**Objectivos:**\n",
    "- Listar idiomas populares para ciencia de datos.\n",
    "- Enumerar bibliotecas comunes utilizadas por los científicos de datos.\n",
    "- Mostrar ejemplos de operaciones aritméticas básicas en Python.\n"
   ]
  },
  {
   "cell_type": "markdown",
   "id": "afdb035f-bbba-420d-a35d-00358da1e989",
   "metadata": {},
   "source": [
    "## Author \n",
    "Edison Quijada Rebolledo\n"
   ]
  }
 ],
 "metadata": {
  "kernelspec": {
   "display_name": "Python 3 (ipykernel)",
   "language": "python",
   "name": "python3"
  },
  "language_info": {
   "codemirror_mode": {
    "name": "ipython",
    "version": 3
   },
   "file_extension": ".py",
   "mimetype": "text/x-python",
   "name": "python",
   "nbconvert_exporter": "python",
   "pygments_lexer": "ipython3",
   "version": "3.12.4"
  }
 },
 "nbformat": 4,
 "nbformat_minor": 5
}
